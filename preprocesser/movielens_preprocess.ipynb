{
 "cells": [
  {
   "cell_type": "code",
   "execution_count": 3,
   "metadata": {},
   "outputs": [],
   "source": [
    "import pandas as pd\n",
    "default_1m_path = \"dataset/recommend/ml-1m/\"\n",
    "default_1m_rating_path = default_1m_path+\"ratings.dat\"\n",
    "default_1m_movies_path = default_1m_path+\"movies.dat\"\n",
    "default_1m_users_path = default_1m_path+\"users.dat\""
   ]
  },
  {
   "cell_type": "code",
   "execution_count": 5,
   "metadata": {},
   "outputs": [],
   "source": [
    "ratings = pd.read_csv(default_1m_rating_path,sep=\"::\", header=None, names=[\"user\", \"item\", \"rate\", \"timestamp\"], engine=\"python\")"
   ]
  },
  {
   "cell_type": "code",
   "execution_count": null,
   "metadata": {},
   "outputs": [],
   "source": [
    "ratings['rate']"
   ]
  },
  {
   "cell_type": "code",
   "execution_count": null,
   "metadata": {},
   "outputs": [],
   "source": [
    ""
   ]
  }
 ],
 "metadata": {},
 "nbformat": 4,
 "nbformat_minor": 0
}